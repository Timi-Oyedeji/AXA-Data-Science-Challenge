{
 "cells": [
  {
   "attachments": {},
   "cell_type": "markdown",
   "metadata": {},
   "source": [
    "## Description of Notebook\n",
    "This Notebook includes a simple function to combine data files in a folder into one file. This was very important for the CitiBike data that were arranged month by month and needed to be converted into a single file."
   ]
  },
  {
   "attachments": {},
   "cell_type": "markdown",
   "metadata": {},
   "source": [
    "### Importing Libraries\n",
    "We import essential libraries"
   ]
  },
  {
   "cell_type": "code",
   "execution_count": 2,
   "metadata": {},
   "outputs": [],
   "source": [
    "import os\n",
    "import pandas as pd"
   ]
  },
  {
   "attachments": {},
   "cell_type": "markdown",
   "metadata": {},
   "source": [
    "### Combining Data Files"
   ]
  },
  {
   "cell_type": "code",
   "execution_count": 3,
   "metadata": {},
   "outputs": [],
   "source": [
    "# define a function to combine data files in a folder into one\n",
    "# this function sorts the files in the folder, takes the ones with .csv, adds them into a list and concat (stack) them into one\n",
    "\n",
    "def combine_data(folder_path):   \n",
    "    file_list = []\n",
    "    for filename in sorted(os.listdir(folder_path)):\n",
    "        if filename.endswith('.csv'):\n",
    "            file_path = os.path.join(folder_path, filename)\n",
    "            df = pd.read_csv(file_path)\n",
    "            file_list.append(df)\n",
    "    combined = pd.concat(file_list, ignore_index=True)\n",
    "    return combined"
   ]
  },
  {
   "cell_type": "code",
   "execution_count": null,
   "metadata": {},
   "outputs": [],
   "source": [
    "# combine extracted citibike 2023 data files and save to csv\n",
    "\n",
    "df_2023 = combine_data('2023-citibike-tripdata')\n",
    "df_2023.to_csv('citibike_2023_combined.csv', index=False)"
   ]
  },
  {
   "cell_type": "code",
   "execution_count": null,
   "metadata": {},
   "outputs": [],
   "source": [
    "# combine extracted citibike 2024 data files and save to csv\n",
    "\n",
    "df_2024 = combine_data('2024-citibike-tripdata')\n",
    "df_2024.to_csv('citibike_2024_combined.csv', index=False)"
   ]
  }
 ],
 "metadata": {
  "kernelspec": {
   "display_name": "base",
   "language": "python",
   "name": "python3"
  },
  "language_info": {
   "codemirror_mode": {
    "name": "ipython",
    "version": 3
   },
   "file_extension": ".py",
   "mimetype": "text/x-python",
   "name": "python",
   "nbconvert_exporter": "python",
   "pygments_lexer": "ipython3",
   "version": "3.8.10"
  },
  "orig_nbformat": 4
 },
 "nbformat": 4,
 "nbformat_minor": 2
}
